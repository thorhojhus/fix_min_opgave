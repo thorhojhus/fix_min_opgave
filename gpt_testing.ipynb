{
 "cells": [
  {
   "cell_type": "code",
   "execution_count": 1,
   "metadata": {},
   "outputs": [],
   "source": [
    "import openai"
   ]
  },
  {
   "cell_type": "code",
   "execution_count": 2,
   "metadata": {},
   "outputs": [
    {
     "data": {
      "text/plain": [
       "['ballalal. ', ' bllblbl ', ' aklkædas']"
      ]
     },
     "execution_count": 2,
     "metadata": {},
     "output_type": "execute_result"
    }
   ],
   "source": [
    "\"ballalal. \\n bllblbl \\n aklkædas\".split(\"\\n\")"
   ]
  },
  {
   "cell_type": "code",
   "execution_count": null,
   "metadata": {},
   "outputs": [],
   "source": [
    "import openai\n",
    "\n",
    "class Agent:\n",
    "    def __init__(self, name):\n",
    "        self.name = name\n",
    "        self.received_tasks = []\n",
    "\n",
    "    def receive_task(self, task):\n",
    "        self.received_tasks.append(task)\n",
    "        print(f\"{self.name} received task: {task}\")\n",
    "\n",
    "class TaskDivider(Agent):\n",
    "    def divide_and_distribute_task(self, large_task, solver_agents):\n",
    "        response = openai.ChatCompletion.create(\n",
    "            model=\"gpt-4-1106-preview\",\n",
    "            messages=[{\"role\": \"system\", \"content\": f\"Divide this task into smaller subtasks. Each subtask to be solved have to start with [Subtask]: {large_task}\"}]\n",
    "        )\n",
    "        subtasks = response.choices[0].message['content'].strip().split('\\n')\n",
    "        \n",
    "        print(f\"{self.name} divided the task into subtasks: {subtasks}\")\n",
    "        for i, subtask in enumerate(subtasks):\n",
    "            if i < len(solver_agents):\n",
    "                solver_agents[i].receive_task(subtask)\n",
    "            else:\n",
    "                print(f\"No more solver agents available for subtask: {subtask}\")"
   ]
  },
  {
   "cell_type": "code",
   "execution_count": null,
   "metadata": {},
   "outputs": [],
   "source": [
    "import openai"
   ]
  },
  {
   "cell_type": "code",
   "execution_count": 25,
   "metadata": {},
   "outputs": [],
   "source": [
    "with open('input.txt', 'r') as file:\n",
    "        large_task = file.read()"
   ]
  },
  {
   "cell_type": "code",
   "execution_count": 27,
   "metadata": {},
   "outputs": [],
   "source": [
    "response = openai.ChatCompletion.create(\n",
    "            model=\"gpt-4-1106-preview\",\n",
    "            messages=[{\"role\": \"system\", \"content\": f\"Divide this task into smaller subtasks to be solved by other agents. First write a field with general context for all agents regardless of task this field should be prepended by [MT] and should be 1 - 3 sentences. Prepend a subtask to be solved with [SB(task_number)]: {large_task}\"}]\n",
    "        )\n",
    "subtasks = response.choices[0].message['content'].strip().split('\\n\\n')"
   ]
  },
  {
   "cell_type": "code",
   "execution_count": 28,
   "metadata": {},
   "outputs": [
    {
     "data": {
      "text/plain": [
       "['[MT] You have been provided with a series of mathematical tasks requiring the application of various mathematical concepts such as evaluating functions, finding stationary points, calculating vectors, solving equations, and more. Each subtask provided below should be addressed using appropriate mathematical methods and tools.',\n",
       " '[SB1]: Calculate the value of the function \\\\( f(x, y) = x^2 - y^2 + 4x \\\\) at the point (3, 1).',\n",
       " '[SB2]: Find the coordinates of the stationary point \\\\( P_0 \\\\) of the function \\\\( f(x, y) = x^2 - y^2 + 4x \\\\).',\n",
       " '[SB3]: Determine the velocity vector \\\\( \\\\mathbf{v}(t) \\\\) for the vector function \\\\( \\\\mathbf{r}(t) = \\\\begin{pmatrix} t^2 - 1 \\\\\\\\ \\\\frac{1}{3}t^3 - 4t \\\\end{pmatrix} \\\\).',\n",
       " '[SB4]: Calculate the coordinates of the point on the curve described by \\\\( \\\\mathbf{r}(t) \\\\) where the tangent to the curve is vertical.',\n",
       " '[SB5]: Solve the equation \\\\( (2x - 6) - (x^2 + 7x + 10) = 0 \\\\).',\n",
       " \"[SB6]: Verify if the function \\\\( f(x) = x^3 \\\\cdot \\\\ln(x) \\\\) is a solution to the differential equation \\\\( y' = 3 \\\\cdot \\\\frac{y}{x} + x^2 \\\\).\",\n",
       " '[SB7]: Draw the parabola described by the equation \\\\( y^2 = 16x \\\\) using the attached diagram.',\n",
       " '[SB8]: Sketch the parameter curve for the vector function \\\\( \\\\vec{s}(t) = \\\\begin{pmatrix} t^3 - e^t + 2 \\\\\\\\ -t^3 - e^{-t} + 4 \\\\end{pmatrix} \\\\).',\n",
       " '[SB9]: Determine the value of \\\\( t \\\\) at which the parameter curve for the vector function \\\\( \\\\vec{s}(t) \\\\) intersects the second (y) axis.',\n",
       " '[SB10]: Explicitly describe the function \\\\( f(x) = 1.2 \\\\cdot (\\\\sqrt[5]{x} - x^{1.5})^{0.5} \\\\) and provide its domain.']"
      ]
     },
     "execution_count": 28,
     "metadata": {},
     "output_type": "execute_result"
    }
   ],
   "source": [
    "subtasks = response.choices[0].message['content'].strip().split('\\n\\n')\n",
    "subtasks"
   ]
  },
  {
   "cell_type": "code",
   "execution_count": 10,
   "metadata": {},
   "outputs": [
    {
     "ename": "ValueError",
     "evalue": "empty separator",
     "output_type": "error",
     "traceback": [
      "\u001b[0;31m---------------------------------------------------------------------------\u001b[0m",
      "\u001b[0;31mValueError\u001b[0m                                Traceback (most recent call last)",
      "\u001b[1;32m/Users/thorh/work_dir/fix_min_opgave/gpt_testing.ipynb Cell 6\u001b[0m line \u001b[0;36m1\n\u001b[0;32m----> <a href='vscode-notebook-cell:/Users/thorh/work_dir/fix_min_opgave/gpt_testing.ipynb#W6sZmlsZQ%3D%3D?line=0'>1</a>\u001b[0m response\u001b[39m.\u001b[39;49mchoices[\u001b[39m0\u001b[39;49m]\u001b[39m.\u001b[39;49mmessage[\u001b[39m'\u001b[39;49m\u001b[39mcontent\u001b[39;49m\u001b[39m'\u001b[39;49m]\u001b[39m.\u001b[39;49mstrip()\u001b[39m.\u001b[39;49msplit(\u001b[39m'\u001b[39;49m\u001b[39m'\u001b[39;49m)\n",
      "\u001b[0;31mValueError\u001b[0m: empty separator"
     ]
    }
   ],
   "source": [
    "response.choices[0].message['content'].strip().split('')"
   ]
  },
  {
   "cell_type": "code",
   "execution_count": 4,
   "metadata": {},
   "outputs": [
    {
     "data": {
      "text/plain": [
       "['[Subtask 1]: Determine Requirements',\n",
       " 'Identify the specific requirements for the house such as size, number of rooms, architectural style, budget, and location preferences.',\n",
       " '',\n",
       " '[Subtask 2]: Obtain Financing',\n",
       " 'Secure financing for the project through savings, loans, or investments to cover the cost of land, materials, labor, and other expenses.',\n",
       " '',\n",
       " '[Subtask 3]: Acquire Land',\n",
       " 'Search for and purchase a plot of land that meets the requirements and is suitable for construction, including ensuring proper zoning and permits.',\n",
       " '',\n",
       " '[Subtask 4]: Design the House',\n",
       " 'Hire an architect or use design software to create detailed blueprints and floor plans that comply with local regulations and fulfill the predetermined requirements.',\n",
       " '',\n",
       " '[Subtask 5]: Secure Permits and Approvals',\n",
       " 'Apply for and obtain all necessary construction permits and approvals from local authorities before breaking ground.',\n",
       " '',\n",
       " '[Subtask 6]: Hire Contractors',\n",
       " 'Select and hire general contractors or subcontractors for different stages of construction like excavation, framing, plumbing, electrical, etc.',\n",
       " '',\n",
       " '[Subtask 7]: Prepare the Site',\n",
       " 'Conduct land clearing, grading, and any necessary soil testing or treatment to prepare the site for construction.',\n",
       " '',\n",
       " '[Subtask 8]: Lay the Foundation',\n",
       " 'Excavate the site as needed and lay the foundation, which could be a slab, crawl space, or basement, ensuring proper footing and waterproofing.',\n",
       " '',\n",
       " '[Subtask 9]: Construct the Frame',\n",
       " 'Build the frame of the house, including walls, floors, and roof, using materials such as wood, steel, or concrete.',\n",
       " '',\n",
       " '[Subtask 10]: Install Roofing and Exterior Finishes',\n",
       " 'Complete the roofing to make the structure weather-tight and apply exterior finishes like siding, stucco, or brickwork.',\n",
       " '',\n",
       " '[Subtask 11]: Do Rough Plumbing, Electrical, and HVAC',\n",
       " 'Install the core systems for plumbing, electrical wiring, and heating, ventilation, and air conditioning before the walls are closed off.',\n",
       " '',\n",
       " '[Subtask 12]: Insulate and Close Walls',\n",
       " 'Add insulation to the home and install interior walls, typically using drywall, along with exterior windows and doors.',\n",
       " '',\n",
       " '[Subtask 13]: Finish Interior',\n",
       " 'Complete interior work including flooring, installing cabinets, painting walls, and adding trim and finishes.',\n",
       " '',\n",
       " '[Subtask 14]: Install Fixtures',\n",
       " 'Fit the house with necessary fixtures like sinks, toilets, light fixtures, and appliances.',\n",
       " '',\n",
       " '[Subtask 15]: Final Utility Connections',\n",
       " 'Make the necessary connections to water, gas, electricity, and sewer systems.',\n",
       " '',\n",
       " '[Subtask 16]: Landscaping',\n",
       " 'Design and execute a landscaping plan to enhance the exterior aesthetics and manage drainage around the property.',\n",
       " '',\n",
       " '[Subtask 17]: Final Inspection',\n",
       " 'Arrange for a final inspection by local authorities to ensure compliance with building codes and safety standards.',\n",
       " '',\n",
       " '[Subtask 18]: Address Punch List',\n",
       " 'Fix any issues identified during the final inspection and complete any last-minute touch-ups or adjustments.',\n",
       " '',\n",
       " '[Subtask 19]: Move-In Preparation',\n",
       " 'Clean the construction site thoroughly, removing all debris and making the house move-in ready.',\n",
       " '',\n",
       " '[Subtask 20]: Move In or Sale',\n",
       " 'Either move into the newly constructed house or prepare it for sale, depending on the initial purpose behind building the house.']"
      ]
     },
     "execution_count": 4,
     "metadata": {},
     "output_type": "execute_result"
    }
   ],
   "source": [
    "subtasks"
   ]
  }
 ],
 "metadata": {
  "kernelspec": {
   "display_name": "Python 3",
   "language": "python",
   "name": "python3"
  },
  "language_info": {
   "codemirror_mode": {
    "name": "ipython",
    "version": 3
   },
   "file_extension": ".py",
   "mimetype": "text/x-python",
   "name": "python",
   "nbconvert_exporter": "python",
   "pygments_lexer": "ipython3",
   "version": "3.11.6"
  }
 },
 "nbformat": 4,
 "nbformat_minor": 2
}
